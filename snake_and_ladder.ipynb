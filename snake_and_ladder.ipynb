{
 "cells": [
  {
   "cell_type": "markdown",
   "metadata": {},
   "source": [
    "# SNAKES & LADDERS\n"
   ]
  },
  {
   "cell_type": "code",
   "execution_count": 8,
   "metadata": {},
   "outputs": [],
   "source": [
    "\n",
    "# Rules:\n",
    "# 1. Initally both the players are at starting position i.e. 0. \n",
    "#    It's a turn based game,\n",
    "#    player can enter:\n",
    "#    \"roll\" for auto mode that will imitate a dice generating a no. 0 and 7.\n",
    "#    \"quit\" to forfeit the game\n",
    "#    or a integer no. btw 1 and 20 tht's manual mode.\n",
    "# 2.  There are some ladders which turn out to be lucky for the player as\n",
    "#     they shorten the way. as well as \n",
    "#     There are some snakes present in between the game which turns out\n",
    "#     to be the enemy of the player as they just lengthen their way to 100.\n",
    "#     The position of snakes and ladders are stored in start:end format\n",
    "#     where start denotes the position of ladder/snake and end denotes the\n",
    "#     value that it reaches.\n",
    "\n",
    "# Position of snakes: {17 : 7, 54 : 34, 62 : 19, 98 : 79}\n",
    "# Position of ladders: {3 : 38, 24 : 33, 42 : 93, 72 : 84}\n",
    "\n",
    "# 3.overshooting is not allowed.\n",
    "# 4. The first player to get to the FINAL position i.e.100 is the winner.\n",
    "\n"
   ]
  },
  {
   "cell_type": "code",
   "execution_count": 2,
   "metadata": {},
   "outputs": [],
   "source": [
    "import random"
   ]
  },
  {
   "cell_type": "code",
   "execution_count": 3,
   "metadata": {},
   "outputs": [],
   "source": [
    "# snake takes you down from 'key' to 'value'\n",
    "snakes= {17 : 7, 54 : 34, 62 : 19, 98 : 79}\n",
    "# ladder takes you up from 'key' to 'value'\n",
    "ladders= {3 : 38, 24 : 33, 42 : 93, 72 : 84}"
   ]
  },
  {
   "cell_type": "code",
   "execution_count": 4,
   "metadata": {},
   "outputs": [],
   "source": [
    "player=[1,2]"
   ]
  },
  {
   "cell_type": "code",
   "execution_count": 5,
   "metadata": {},
   "outputs": [],
   "source": [
    "def start():\n",
    "    print(\"###### WELCOME TO SNAKES AND LADDERS GAME ######\")\n",
    "    p1=input(\"ENTER PLAYER 1 NAME :\")\n",
    "    p2=input(\"ENTER PLAYER 2 NAME :\")\n",
    "    player_name=[p1,p2]\n",
    "    print(\"###### LET US START ######\")\n",
    "    tp=[0,0]\n",
    "    current_player=0\n",
    "    game_won=True\n",
    "    while game_won:\n",
    "        current_player=player[current_player%2]\n",
    "        inp_mode=True\n",
    "        while inp_mode:\n",
    "            mode=input(f\"PLAYER {current_player} :\")\n",
    "            if mode.lower() == \"roll\":\n",
    "                #auto mode:a random number will be generated imitating the roll of dice.\n",
    "                cp=random.randint(1,6)\n",
    "                inp_mode=False\n",
    "            #checking if player wants to forfeit the game.\n",
    "            elif mode.lower() == \"quit\":\n",
    "                cp=0\n",
    "                inp_mode=False\n",
    "                game_won=True\n",
    "            elif mode.isdigit():\n",
    "                #manual mode:user input is converted to a interger cond.(btw 1 and 20) .\n",
    "                cp=int(mode)\n",
    "                man_mode=True\n",
    "                while man_mode:\n",
    "                    if cp>0 and cp<21:\n",
    "                        man_mode=False\n",
    "                        inp_mode=False\n",
    "                    else:\n",
    "                        cp=int(input(\"PLEASE ENTER BETWEEN 0 AND 21 : \"))\n",
    "            else:\n",
    "                print(\"PLEASE ENTER A VALID INPUT \\n{ roll FOR AUTO MODE OR INTERGER VALUE BETWEEN 1 TO 20 FOR MANUAL MODE OR quit FOR FORFEIT THE GAME}\")\n",
    "\n",
    "        if cp==0:\n",
    "            print(f\"Player {current_player%2 + 1} : {player_name[current_player%2]} WON THE GAME\")\n",
    "            print(\"####### Game Successfully Finished ######\")\n",
    "            game_won=False\n",
    "        else:\n",
    "            print(f\"You got a {cp}\")\n",
    "            tp[current_player - 1]+=cp\n",
    "            if tp[current_player - 1]>100:\n",
    "                tp[current_player - 1]-=cp\n",
    "            #checking if the final position corresponds to a snake\n",
    "            for key,value in snakes.items():\n",
    "                if key == tp[current_player - 1]:\n",
    "                    tp[current_player - 1]=value\n",
    "            ##checking if the final position corresponds to a ladder\n",
    "            for key,value in ladders.items():\n",
    "                if key == tp[current_player - 1]:\n",
    "                    tp[current_player - 1]=value\n",
    "            print(f\"   Your final position is {tp[current_player - 1]}\")\n",
    "\n",
    "        if tp[current_player - 1]==100:\n",
    "            print(f\"Player {current_player} : {player_name[current_player]}  WON THE GAME\")\n",
    "            print(\"####### Game Successfully Finished ######\")\n",
    "            game_won=False\n"
   ]
  },
  {
   "cell_type": "code",
   "execution_count": 6,
   "metadata": {},
   "outputs": [
    {
     "name": "stdout",
     "output_type": "stream",
     "text": [
      "###### WELCOME TO SNAKES AND LADDERS GAME ######\n",
      "ENTER PLAYER 1 NAME :abhs\n",
      "ENTER PLAYER 2 NAME :asdd\n",
      "###### LET US START ######\n",
      "PLAYER 1 :12\n",
      "You got a 12\n",
      "   Your final position is 12\n",
      "PLAYER 2 :33\n",
      "PLEASE ENTER BETWEEN 0 AND 21 : 11\n",
      "You got a 11\n",
      "   Your final position is 11\n",
      "PLAYER 1 :roll\n",
      "You got a 3\n",
      "   Your final position is 15\n",
      "PLAYER 2 :ROLL\n",
      "You got a 6\n",
      "   Your final position is 7\n",
      "PLAYER 1 :quitt\n",
      "PLEASE ENTER A VALID INPUT \n",
      "{ roll FOR AUTO MODE OR INTERGER VALUE BETWEEN 1 TO 20 FOR MANUAL MODE OR quit FOR FORFEIT THE GAME}\n",
      "PLAYER 1 :quit\n",
      "Player 2 : asdd WON THE GAME\n",
      "####### Game Successfully Finished ######\n"
     ]
    }
   ],
   "source": [
    "if __name__ == \"__main__\":\n",
    "    start()"
   ]
  }
 ],
 "metadata": {
  "kernelspec": {
   "display_name": "Python 3",
   "language": "python",
   "name": "python3"
  },
  "language_info": {
   "codemirror_mode": {
    "name": "ipython",
    "version": 3
   },
   "file_extension": ".py",
   "mimetype": "text/x-python",
   "name": "python",
   "nbconvert_exporter": "python",
   "pygments_lexer": "ipython3",
   "version": "3.9.1"
  }
 },
 "nbformat": 4,
 "nbformat_minor": 4
}
